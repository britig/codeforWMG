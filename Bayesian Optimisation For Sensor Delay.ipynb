{
 "cells": [
  {
   "cell_type": "code",
   "execution_count": 20,
   "metadata": {},
   "outputs": [
    {
     "name": "stdout",
     "output_type": "stream",
     "text": [
      "Populating the interactive namespace from numpy and matplotlib\n",
      "3\n"
     ]
    }
   ],
   "source": [
    "%pylab inline  \n",
    "from mpl_toolkits import mplot3d\n",
    "import GPy\n",
    "import GPyOpt\n",
    "from numpy.random import seed\n",
    "import matplotlib\n",
    "\n",
    "def covar_func(bounds):\n",
    "    sensor_one = bounds[0][0]\n",
    "    sensor_two = bounds[0][1]\n",
    "    sensor_three =bounds[0][2]\n",
    "    sensor_four =bounds[0][3]\n",
    "    sensor_five =bounds[0][4]\n",
    "    print(sensor_one)    \n",
    "    covar_err = sensor_one*0.5+sensor_two*0.3+sensor_three*0.1\n",
    "    return -covar_err\n",
    "\n",
    "def bo_module():\n",
    "    # Creates GPyOpt object with the model and acquisition fucntion\n",
    "    seed(123)\n",
    "    #Domain of uncertainity five sensor values\n",
    "    bounds = [{'name': 'Camera', 'type': 'continuous', 'domain': (0,100)},\n",
    "              {'name': 'Lidar', 'type': 'continuous', 'domain': (0,100)},\n",
    "              {'name': '3D Map', 'type': 'continuous', 'domain': (0,100)},\n",
    "              {'name': 'Wheel odometry', 'type': 'continuous', 'domain': (0,100)},\n",
    "              {'name': 'IMU', 'type': 'continuous', 'domain': (0,100)}]\n",
    "    #Budget number of evaluations of f\n",
    "    max_iter = 60\n",
    "    # Creates GPyOpt object with the model and acquisition fucntion\n",
    "    seed(123)\n",
    "    myProblem = GPyOpt.methods.BayesianOptimization(covar_func,     # function to optimize\n",
    "                                                model_type = 'GP',\n",
    "                                                domain=bounds,  # box-constraints of the problem\n",
    "                                                acquisition_type='EI',\n",
    "                                                exact_feval = True) # Selects the Expected improvement\n",
    "    max_time = 60     # time budget \n",
    "    myProblem.run_optimization(max_iter, max_time)\n",
    "    print(myProblem.x_opt)\n",
    "    print(myProblem.fx_opt)\n",
    "    \n",
    "if __name__=='__main__':\n",
    "    bo_module()\n",
    "    "
   ]
  },
  {
   "cell_type": "code",
   "execution_count": null,
   "metadata": {},
   "outputs": [],
   "source": []
  },
  {
   "cell_type": "code",
   "execution_count": null,
   "metadata": {},
   "outputs": [],
   "source": []
  }
 ],
 "metadata": {
  "kernelspec": {
   "display_name": "Python 3",
   "language": "python",
   "name": "python3"
  },
  "language_info": {
   "codemirror_mode": {
    "name": "ipython",
    "version": 3
   },
   "file_extension": ".py",
   "mimetype": "text/x-python",
   "name": "python",
   "nbconvert_exporter": "python",
   "pygments_lexer": "ipython3",
   "version": "3.6.5"
  }
 },
 "nbformat": 4,
 "nbformat_minor": 2
}
